{
 "cells": [
  {
   "cell_type": "markdown",
   "metadata": {
    "slideshow": {
     "slide_type": "slide"
    }
   },
   "source": [
    "# Why Scala?"
   ]
  },
  {
   "cell_type": "markdown",
   "metadata": {
    "slideshow": {
     "slide_type": "slide"
    }
   },
   "source": [
    "## Write Hello world"
   ]
  },
  {
   "cell_type": "code",
   "execution_count": 4,
   "metadata": {
    "collapsed": false,
    "scrolled": true,
    "slideshow": {
     "slide_type": "fragment"
    }
   },
   "outputs": [
    {
     "name": "stdout",
     "output_type": "stream",
     "text": [
      "Hello Scala World\n"
     ]
    },
    {
     "data": {
      "text/plain": []
     },
     "metadata": {},
     "output_type": "display_data"
    }
   ],
   "source": [
    "println(\"Hello Scala World\")"
   ]
  },
  {
   "cell_type": "markdown",
   "metadata": {
    "slideshow": {
     "slide_type": "slide"
    }
   },
   "source": [
    "### Runs on popular platform \"JVM\""
   ]
  },
  {
   "cell_type": "code",
   "execution_count": null,
   "metadata": {
    "collapsed": true,
    "slideshow": {
     "slide_type": "fragment"
    }
   },
   "outputs": [],
   "source": [
    "*check scala-native.org  lot of awesomeness here shhh!!"
   ]
  },
  {
   "cell_type": "markdown",
   "metadata": {
    "slideshow": {
     "slide_type": "slide"
    }
   },
   "source": [
    "## Define Values"
   ]
  },
  {
   "cell_type": "code",
   "execution_count": 83,
   "metadata": {
    "collapsed": false,
    "slideshow": {
     "slide_type": "fragment"
    }
   },
   "outputs": [
    {
     "data": {
      "text/plain": [
       "\u001b[36mx\u001b[0m: \u001b[32mInt\u001b[0m = \u001b[32m1\u001b[0m"
      ]
     },
     "metadata": {},
     "output_type": "display_data"
    }
   ],
   "source": [
    "val x = 1"
   ]
  },
  {
   "cell_type": "code",
   "execution_count": 84,
   "metadata": {
    "collapsed": false,
    "scrolled": true,
    "slideshow": {
     "slide_type": "fragment"
    }
   },
   "outputs": [
    {
     "data": {
      "text/plain": [
       "\u001b[36ms\u001b[0m: \u001b[32mInt\u001b[0m = \u001b[32m4\u001b[0m\n",
       "\u001b[36mp\u001b[0m: \u001b[32mInt\u001b[0m = \u001b[32m4\u001b[0m\n",
       "\u001b[36mq\u001b[0m: \u001b[32mInt\u001b[0m = \u001b[32m2\u001b[0m"
      ]
     },
     "metadata": {},
     "output_type": "display_data"
    }
   ],
   "source": [
    "val (s,p,q) = (2+2, 2*2, 4/2) "
   ]
  },
  {
   "cell_type": "markdown",
   "metadata": {
    "slideshow": {
     "slide_type": "slide"
    }
   },
   "source": [
    " ## Define Variables"
   ]
  },
  {
   "cell_type": "code",
   "execution_count": 85,
   "metadata": {
    "collapsed": false,
    "slideshow": {
     "slide_type": "fragment"
    }
   },
   "outputs": [
    {
     "name": "stdout",
     "output_type": "stream",
     "text": [
      "2\n",
      "5\n"
     ]
    },
    {
     "data": {
      "text/plain": [
       "\u001b[36ma\u001b[0m: \u001b[32mInt\u001b[0m = \u001b[32m5\u001b[0m\n",
       "\u001b[36mb\u001b[0m: \u001b[32mInt\u001b[0m = \u001b[32m5\u001b[0m"
      ]
     },
     "metadata": {},
     "output_type": "display_data"
    }
   ],
   "source": [
    "var a = 2   // varia\n",
    "println(a)\n",
    "\n",
    "var b = 5\n",
    "\n",
    "a = b\n",
    "println(a)"
   ]
  },
  {
   "cell_type": "markdown",
   "metadata": {
    "slideshow": {
     "slide_type": "slide"
    }
   },
   "source": [
    "## Catch type errors at compile time :)"
   ]
  },
  {
   "cell_type": "code",
   "execution_count": 85,
   "metadata": {
    "collapsed": false,
    "slideshow": {
     "slide_type": "fragment"
    }
   },
   "outputs": [
    {
     "ename": "",
     "evalue": "",
     "output_type": "error",
     "traceback": [
      "\u001b[31mMain.scala:25: type mismatch;",
      " found   : String",
      " required: Int",
      "}.apply",
      "  ^\u001b[0m"
     ]
    }
   ],
   "source": [
    "val a:Int = \"Please succeed!!\""
   ]
  },
  {
   "cell_type": "markdown",
   "metadata": {
    "slideshow": {
     "slide_type": "slide"
    }
   },
   "source": [
    "## Define a collection with generics"
   ]
  },
  {
   "cell_type": "code",
   "execution_count": 86,
   "metadata": {
    "collapsed": false,
    "slideshow": {
     "slide_type": "fragment"
    }
   },
   "outputs": [
    {
     "data": {
      "text/plain": [
       "\u001b[36mnames\u001b[0m: \u001b[32mList\u001b[0m[\u001b[32mString\u001b[0m] = \u001b[33mList\u001b[0m(\u001b[32m\"Jack\"\u001b[0m, \u001b[32m\"Jill\"\u001b[0m, \u001b[32m\"Donny\"\u001b[0m)"
      ]
     },
     "metadata": {},
     "output_type": "display_data"
    }
   ],
   "source": [
    "val names:List[String] = List(\"Jack\", \"Jill\", \"Donny\") // generics, collection"
   ]
  },
  {
   "cell_type": "markdown",
   "metadata": {
    "slideshow": {
     "slide_type": "slide"
    }
   },
   "source": [
    "## Be Immutabe"
   ]
  },
  {
   "cell_type": "code",
   "execution_count": 87,
   "metadata": {
    "collapsed": false,
    "slideshow": {
     "slide_type": "fragment"
    }
   },
   "outputs": [
    {
     "data": {
      "text/plain": [
       "\u001b[36mmovies\u001b[0m: \u001b[32mList\u001b[0m[\u001b[32mString\u001b[0m] = \u001b[33mList\u001b[0m(\u001b[32m\"Kungfu Panda\"\u001b[0m, \u001b[32m\"Rio\"\u001b[0m, \u001b[32m\"Jungle Book\"\u001b[0m, \u001b[32m\"Conjuring\"\u001b[0m)"
      ]
     },
     "metadata": {},
     "output_type": "display_data"
    }
   ],
   "source": [
    "val movies = List(\"Kungfu Panda\", \"Rio\", \"Jungle Book\", \"Conjuring\")"
   ]
  },
  {
   "cell_type": "code",
   "execution_count": 88,
   "metadata": {
    "collapsed": false,
    "slideshow": {
     "slide_type": "fragment"
    }
   },
   "outputs": [
    {
     "data": {
      "text/plain": [
       "\u001b[36mres87_0\u001b[0m: \u001b[32mList\u001b[0m[\u001b[32mString\u001b[0m] = \u001b[33mList\u001b[0m(\u001b[32m\"Kungfu Panda\"\u001b[0m, \u001b[32m\"Rio\"\u001b[0m, \u001b[32m\"Jungle Book\"\u001b[0m)\n",
       "\u001b[36mres87_1\u001b[0m: \u001b[32mList\u001b[0m[\u001b[32mString\u001b[0m] = \u001b[33mList\u001b[0m(\u001b[32m\"Kungfu Panda\"\u001b[0m, \u001b[32m\"Rio\"\u001b[0m, \u001b[32m\"Jungle Book\"\u001b[0m, \u001b[32m\"Conjuring\"\u001b[0m)"
      ]
     },
     "metadata": {},
     "output_type": "display_data"
    }
   ],
   "source": [
    "movies filterNot(_ == \"Conjuring\")\n",
    "\n",
    "movies"
   ]
  },
  {
   "cell_type": "markdown",
   "metadata": {
    "slideshow": {
     "slide_type": "slide"
    }
   },
   "source": [
    "## Do OOP"
   ]
  },
  {
   "cell_type": "markdown",
   "metadata": {
    "slideshow": {
     "slide_type": "slide"
    }
   },
   "source": [
    "### Define Interface"
   ]
  },
  {
   "cell_type": "code",
   "execution_count": 89,
   "metadata": {
    "collapsed": false,
    "slideshow": {
     "slide_type": "fragment"
    }
   },
   "outputs": [
    {
     "data": {
      "text/plain": [
       "defined \u001b[32mtrait \u001b[36mTrait_Having_Fields_Methods_AbstractMethods\u001b[0m"
      ]
     },
     "metadata": {},
     "output_type": "display_data"
    }
   ],
   "source": [
    "trait Trait_Having_Fields_Methods_AbstractMethods{\n",
    "    val x = 10 \n",
    "    def y = \"Hi\"\n",
    "    def z:Int\n",
    "}"
   ]
  },
  {
   "cell_type": "markdown",
   "metadata": {
    "slideshow": {
     "slide_type": "slide"
    }
   },
   "source": [
    "### Define Class"
   ]
  },
  {
   "cell_type": "code",
   "execution_count": null,
   "metadata": {
    "collapsed": true,
    "slideshow": {
     "slide_type": "fragment"
    }
   },
   "outputs": [],
   "source": [
    "class Person(val name:String, val age:Int){\n",
    "    def isMajor = age >= 18\n",
    "    def isMinor = !isMajor\n",
    "}\n",
    "\n",
    "val p = new Person(\"Prince\", 24)\n",
    "\n",
    "p.name\n",
    "p.isMinor"
   ]
  },
  {
   "cell_type": "markdown",
   "metadata": {
    "slideshow": {
     "slide_type": "slide"
    }
   },
   "source": [
    "### Use Inheritance"
   ]
  },
  {
   "cell_type": "code",
   "execution_count": 90,
   "metadata": {
    "collapsed": false,
    "slideshow": {
     "slide_type": "fragment"
    }
   },
   "outputs": [
    {
     "data": {
      "text/plain": [
       "defined \u001b[32mtrait \u001b[36mIPerson\u001b[0m\n",
       "defined \u001b[32mclass \u001b[36mPerson\u001b[0m"
      ]
     },
     "metadata": {},
     "output_type": "display_data"
    }
   ],
   "source": [
    "trait IPerson{\n",
    "    def name:String\n",
    "    def age:Int\n",
    "    def isMajor = age >= 18\n",
    "    def isMinor = !isMajor\n",
    "}\n",
    "\n",
    "class PersonPrinter\n",
    "\n",
    "class Person(val name:String, val age:Int) extends PersonPrinter with IPerson"
   ]
  },
  {
   "cell_type": "markdown",
   "metadata": {
    "slideshow": {
     "slide_type": "slide"
    }
   },
   "source": [
    "## Define Singleton"
   ]
  },
  {
   "cell_type": "code",
   "execution_count": 91,
   "metadata": {
    "collapsed": false,
    "slideshow": {
     "slide_type": "fragment"
    }
   },
   "outputs": [
    {
     "data": {
      "text/plain": [
       "defined \u001b[32mobject \u001b[36mUtil\u001b[0m"
      ]
     },
     "metadata": {},
     "output_type": "display_data"
    }
   ],
   "source": [
    "object Util{\n",
    "    def sum(a:Int,b:Int) = a + b\n",
    "}"
   ]
  },
  {
   "cell_type": "markdown",
   "metadata": {
    "slideshow": {
     "slide_type": "slide"
    }
   },
   "source": [
    "## Write less and understandable code"
   ]
  },
  {
   "cell_type": "code",
   "execution_count": 1,
   "metadata": {
    "collapsed": false,
    "slideshow": {
     "slide_type": "fragment"
    }
   },
   "outputs": [
    {
     "data": {
      "text/plain": [
       "defined \u001b[32mclass \u001b[36mPerson\u001b[0m\n",
       "\u001b[36mp1\u001b[0m: \u001b[32m$user\u001b[0m.\u001b[32mPerson\u001b[0m = \u001b[33mPerson\u001b[0m(\u001b[32m\"Deepak\"\u001b[0m, \u001b[32m27\u001b[0m)\n",
       "\u001b[36mp2\u001b[0m: \u001b[32m$user\u001b[0m.\u001b[32mPerson\u001b[0m = \u001b[33mPerson\u001b[0m(\u001b[32m\"Angel\"\u001b[0m, \u001b[32m20\u001b[0m)\n",
       "\u001b[36mset\u001b[0m: \u001b[32mSet\u001b[0m[\u001b[32m$user\u001b[0m.\u001b[32mPerson\u001b[0m] = \u001b[33mSet\u001b[0m(\u001b[33mPerson\u001b[0m(\u001b[32m\"Deepak\"\u001b[0m, \u001b[32m27\u001b[0m), \u001b[33mPerson\u001b[0m(\u001b[32m\"Angel\"\u001b[0m, \u001b[32m20\u001b[0m))\n",
       "\u001b[36mres0_4\u001b[0m: \u001b[32mBoolean\u001b[0m = \u001b[32mtrue\u001b[0m\n",
       "\u001b[36mres0_5\u001b[0m: \u001b[32mBoolean\u001b[0m = \u001b[32mtrue\u001b[0m\n",
       "\u001b[36mp3\u001b[0m: \u001b[32m$user\u001b[0m.\u001b[32mPerson\u001b[0m = \u001b[33mPerson\u001b[0m(\u001b[32m\"David\"\u001b[0m, \u001b[32m30\u001b[0m)\n",
       "\u001b[36mres0_7\u001b[0m: \u001b[32mBoolean\u001b[0m = \u001b[32mfalse\u001b[0m"
      ]
     },
     "metadata": {},
     "output_type": "display_data"
    }
   ],
   "source": [
    "case class Person(name:String, age:Int) \n",
    "\n",
    "val p1 = Person(\"Deepak\", 27)\n",
    "val p2 = Person(\"Angel\", 20)\n",
    "\n",
    "val set = Set(p1,p2)\n",
    "\n",
    "set.contains(p1)\n",
    "set.contains(p2)\n",
    "\n",
    "val p3 = Person(\"David\", 30)\n",
    "set.contains(p3)"
   ]
  },
  {
   "cell_type": "markdown",
   "metadata": {
    "collapsed": true,
    "slideshow": {
     "slide_type": "slide"
    }
   },
   "source": [
    "## Functional Programming"
   ]
  },
  {
   "cell_type": "markdown",
   "metadata": {
    "slideshow": {
     "slide_type": "slide"
    }
   },
   "source": [
    "## Define Functions"
   ]
  },
  {
   "cell_type": "code",
   "execution_count": 93,
   "metadata": {
    "collapsed": false,
    "slideshow": {
     "slide_type": "fragment"
    }
   },
   "outputs": [
    {
     "data": {
      "text/plain": [
       "\u001b[36madd2\u001b[0m: \u001b[32mInt\u001b[0m => \u001b[32mInt\u001b[0m = <function1>"
      ]
     },
     "metadata": {},
     "output_type": "display_data"
    }
   ],
   "source": [
    "val add2 = (x:Int) => x + 2"
   ]
  },
  {
   "cell_type": "code",
   "execution_count": 94,
   "metadata": {
    "collapsed": false,
    "slideshow": {
     "slide_type": "fragment"
    }
   },
   "outputs": [
    {
     "data": {
      "text/plain": [
       "\u001b[36mmult3\u001b[0m: \u001b[32mInt\u001b[0m => \u001b[32mInt\u001b[0m = <function1>"
      ]
     },
     "metadata": {},
     "output_type": "display_data"
    }
   ],
   "source": [
    "val mult3 = (x:Int) => x * 3"
   ]
  },
  {
   "cell_type": "markdown",
   "metadata": {
    "slideshow": {
     "slide_type": "slide"
    }
   },
   "source": [
    "## Compose Functions"
   ]
  },
  {
   "cell_type": "code",
   "execution_count": 95,
   "metadata": {
    "collapsed": false,
    "slideshow": {
     "slide_type": "fragment"
    }
   },
   "outputs": [
    {
     "data": {
      "text/plain": [
       "\u001b[36madd2ThenMult3_V1\u001b[0m: \u001b[32mInt\u001b[0m => \u001b[32mInt\u001b[0m = <function1>\n",
       "\u001b[36mres94_1\u001b[0m: \u001b[32mInt\u001b[0m = \u001b[32m9\u001b[0m\n",
       "\u001b[36madd2ThenMult3_V2\u001b[0m: \u001b[32mInt\u001b[0m => \u001b[32mInt\u001b[0m = <function1>\n",
       "\u001b[36mres94_3\u001b[0m: \u001b[32mInt\u001b[0m = \u001b[32m9\u001b[0m\n",
       "\u001b[36madd2ThenMult3_V3\u001b[0m: \u001b[32mInt\u001b[0m => \u001b[32mInt\u001b[0m = <function1>\n",
       "\u001b[36mres94_5\u001b[0m: \u001b[32mInt\u001b[0m = \u001b[32m9\u001b[0m"
      ]
     },
     "metadata": {},
     "output_type": "display_data"
    }
   ],
   "source": [
    "val add2ThenMult3_V1 = mult3 compose add2\n",
    "add2ThenMult3_V1(1)\n",
    "\n",
    "val add2ThenMult3_V2 = add2 andThen mult3\n",
    "add2ThenMult3_V2(1)\n",
    "\n",
    "\n",
    "val add2ThenMult3_V3 = (x:Int) => mult3(add2(x))\n",
    "add2ThenMult3_V3(1)"
   ]
  },
  {
   "cell_type": "markdown",
   "metadata": {
    "slideshow": {
     "slide_type": "slide"
    }
   },
   "source": [
    "## Higher order functions"
   ]
  },
  {
   "cell_type": "markdown",
   "metadata": {
    "slideshow": {
     "slide_type": "slide"
    }
   },
   "source": [
    "## Take function as argument"
   ]
  },
  {
   "cell_type": "code",
   "execution_count": 96,
   "metadata": {
    "collapsed": false,
    "slideshow": {
     "slide_type": "fragment"
    }
   },
   "outputs": [
    {
     "data": {
      "text/plain": [
       "defined \u001b[32mfunction \u001b[36mcaller\u001b[0m\n",
       "\u001b[36mres95_1\u001b[0m: \u001b[32mInt\u001b[0m = \u001b[32m9\u001b[0m"
      ]
     },
     "metadata": {},
     "output_type": "display_data"
    }
   ],
   "source": [
    "def caller[A,B](f:A => B)(x:A) = f(x)\n",
    "\n",
    "caller(add2ThenMult3_V1)(1)\n",
    "\n"
   ]
  },
  {
   "cell_type": "code",
   "execution_count": 97,
   "metadata": {
    "collapsed": false,
    "slideshow": {
     "slide_type": "fragment"
    }
   },
   "outputs": [
    {
     "data": {
      "text/plain": [
       "\u001b[36madd2ThenMult3\u001b[0m: \u001b[32mInt\u001b[0m => \u001b[32mInt\u001b[0m = <function1>\n",
       "\u001b[36mres96_1\u001b[0m: \u001b[32mInt\u001b[0m = \u001b[32m9\u001b[0m"
      ]
     },
     "metadata": {},
     "output_type": "display_data"
    }
   ],
   "source": [
    "val add2ThenMult3 = caller(add2ThenMult3_V1) _\n",
    "\n",
    "add2ThenMult3(1)"
   ]
  },
  {
   "cell_type": "markdown",
   "metadata": {
    "slideshow": {
     "slide_type": "slide"
    }
   },
   "source": [
    "## Return a function"
   ]
  },
  {
   "cell_type": "code",
   "execution_count": 98,
   "metadata": {
    "collapsed": false,
    "slideshow": {
     "slide_type": "fragment"
    }
   },
   "outputs": [
    {
     "name": "stdout",
     "output_type": "stream",
     "text": [
      "***************************************************\n",
      "Feeling happy in the land of Higher Order Functions\n",
      "***************************************************\n"
     ]
    },
    {
     "data": {
      "text/plain": [
       "defined \u001b[32mfunction \u001b[36mprintDecorated\u001b[0m\n",
       "\u001b[36mstarDecorator\u001b[0m: \u001b[32mString\u001b[0m => \u001b[32mUnit\u001b[0m = <function1>"
      ]
     },
     "metadata": {},
     "output_type": "display_data"
    }
   ],
   "source": [
    "def printDecorated(str:String) = { (x:String) => \n",
    "       println(str * x.length)\n",
    "       println(x)\n",
    "       println(str * x.length)               \n",
    "}\n",
    "\n",
    "val starDecorator = printDecorated(\"*\")\n",
    "starDecorator(\"Feeling happy in the land of Higher Order Functions\")"
   ]
  },
  {
   "cell_type": "markdown",
   "metadata": {
    "slideshow": {
     "slide_type": "slide"
    }
   },
   "source": [
    "## Powerful Pattern Matching"
   ]
  },
  {
   "cell_type": "code",
   "execution_count": 99,
   "metadata": {
    "collapsed": false,
    "slideshow": {
     "slide_type": "fragment"
    }
   },
   "outputs": [
    {
     "data": {
      "text/plain": [
       "defined \u001b[32mtrait \u001b[36mEatingHabit\u001b[0m\n",
       "defined \u001b[32mobject \u001b[36mVeg\u001b[0m\n",
       "defined \u001b[32mobject \u001b[36mNonVeg\u001b[0m\n",
       "defined \u001b[32mfunction \u001b[36mprintHabit\u001b[0m"
      ]
     },
     "metadata": {},
     "output_type": "display_data"
    }
   ],
   "source": [
    "trait EatingHabit\n",
    "case object Veg extends EatingHabit\n",
    "case object NonVeg extends EatingHabit\n",
    "\n",
    "def printHabit(h:EatingHabit) = h match{\n",
    "    case Veg => println(\"veg\")\n",
    "    case NonVeg =>  println(\"Nonveg\")\n",
    "}"
   ]
  },
  {
   "cell_type": "code",
   "execution_count": 100,
   "metadata": {
    "collapsed": false,
    "slideshow": {
     "slide_type": "fragment"
    }
   },
   "outputs": [
    {
     "name": "stdout",
     "output_type": "stream",
     "text": [
      "Feeding Dog 'Bully' bread \n"
     ]
    },
    {
     "data": {
      "text/plain": [
       "defined \u001b[32mtrait \u001b[36mAnimal\u001b[0m\n",
       "defined \u001b[32mclass \u001b[36mDog\u001b[0m\n",
       "defined \u001b[32mclass \u001b[36mCat\u001b[0m\n",
       "defined \u001b[32mfunction \u001b[36mfeedAnimal\u001b[0m"
      ]
     },
     "metadata": {},
     "output_type": "display_data"
    }
   ],
   "source": [
    "trait Animal\n",
    "case class Dog(name:String, food:String) extends Animal\n",
    "case class Cat(name:String) extends Animal\n",
    "\n",
    "def feedAnimal(a:Animal) = a match{\n",
    "    case Dog(name, food) => println(s\"Feeding Dog '$name' $food \")\n",
    "    case Cat(name) => println(s\"Feeding Cat '$name' milk \")\n",
    "}\n",
    "\n",
    "feedAnimal(Dog(\"Bully\", \"bread\"))"
   ]
  },
  {
   "cell_type": "markdown",
   "metadata": {
    "slideshow": {
     "slide_type": "slide"
    }
   },
   "source": [
    "## Loop with Recursion"
   ]
  },
  {
   "cell_type": "code",
   "execution_count": 2,
   "metadata": {
    "collapsed": false,
    "slideshow": {
     "slide_type": "fragment"
    }
   },
   "outputs": [
    {
     "data": {
      "text/plain": [
       "\u001b[32mimport \u001b[36mscala.annotation.tailrec\u001b[0m\n",
       "defined \u001b[32mfunction \u001b[36msum\u001b[0m\n",
       "\u001b[36mres1_2\u001b[0m: \u001b[32mInt\u001b[0m = \u001b[32m10\u001b[0m"
      ]
     },
     "metadata": {},
     "output_type": "display_data"
    }
   ],
   "source": [
    "import scala.annotation.tailrec\n",
    "\n",
    "@tailrec\n",
    "private def sum(numbers:List[Int], acc:Int):Int = numbers match{\n",
    "    case x :: xs => sum(xs, acc + x)\n",
    "    case x :: Nil => acc\n",
    "    case Nil => acc\n",
    "}\n",
    "\n",
    "sum(List(1,2,3,4), 0)"
   ]
  },
  {
   "cell_type": "markdown",
   "metadata": {
    "slideshow": {
     "slide_type": "slide"
    }
   },
   "source": [
    "## Use Java Libraries"
   ]
  },
  {
   "cell_type": "code",
   "execution_count": 7,
   "metadata": {
    "collapsed": false,
    "slideshow": {
     "slide_type": "fragment"
    }
   },
   "outputs": [
    {
     "data": {
      "text/plain": [
       "\u001b[36mjvmLangs\u001b[0m: \u001b[32mjava\u001b[0m.\u001b[32mutil\u001b[0m.\u001b[32mArrayList\u001b[0m[\u001b[32mString\u001b[0m] = [Java, Scala, Kotlin, Ceylon, Clojure, Frege, Groovy, Golo, XTend, JRuby, Jython]"
      ]
     },
     "metadata": {},
     "output_type": "display_data"
    }
   ],
   "source": [
    "val jvmLangs = new java.util.ArrayList[String](){\n",
    "    add(\"Java\")\n",
    "    add(\"Scala\")\n",
    "    add(\"Kotlin\")\n",
    "    add(\"Ceylon\")\n",
    "    add(\"Clojure\")\n",
    "    add(\"Frege\")\n",
    "    add(\"Groovy\")\n",
    "    add(\"Golo\")\n",
    "    add(\"XTend\")\n",
    "    add(\"JRuby\")\n",
    "    add(\"Jython\")\n",
    "}"
   ]
  },
  {
   "cell_type": "markdown",
   "metadata": {
    "slideshow": {
     "slide_type": "slide"
    }
   },
   "source": [
    "### Write DSLs"
   ]
  },
  {
   "cell_type": "code",
   "execution_count": null,
   "metadata": {
    "collapsed": true,
    "slideshow": {
     "slide_type": "fragment"
    }
   },
   "outputs": [],
   "source": [
    "class ExampleSpec extends FlatSpec with Matchers {\n",
    "\n",
    "  \"A Stack\" should \"pop values in last-in-first-out order\" in {\n",
    "    val stack = new Stack[Int]\n",
    "    stack.push(1)\n",
    "    stack.push(2)\n",
    "    stack.pop() should be (2)\n",
    "    stack.pop() should be (1)\n",
    "  }\n",
    "\n",
    "  it should \"throw NoSuchElementException if an empty stack is popped\" in {\n",
    "    val emptyStack = new Stack[Int]\n",
    "    a [NoSuchElementException] should be thrownBy {\n",
    "      emptyStack.pop()\n",
    "    } \n",
    "  }\n",
    "}\n",
    "\n",
    "// Ref http://www.scalatest.org/quick_start"
   ]
  },
  {
   "cell_type": "markdown",
   "metadata": {
    "slideshow": {
     "slide_type": "slide"
    }
   },
   "source": [
    "## Write Type level Program"
   ]
  },
  {
   "cell_type": "code",
   "execution_count": 102,
   "metadata": {
    "collapsed": false,
    "slideshow": {
     "slide_type": "fragment"
    }
   },
   "outputs": [
    {
     "ename": "",
     "evalue": "",
     "output_type": "error",
     "traceback": [
      "\u001b[31mMain.scala:33: cyclic aliasing or subtyping involving type X",
      "  type C = RecurseA#X[RecurseA]",
      "       ^\u001b[0m"
     ]
    }
   ],
   "source": [
    "// define the abstract types and bounds\n",
    "trait Recurse {\n",
    "  type Next <: Recurse\n",
    "  // this is the recursive function definition\n",
    "  type X[R <: Recurse] <: Int\n",
    "}\n",
    "// implementation\n",
    "trait RecurseA extends Recurse {\n",
    "  type Next = RecurseA\n",
    "  // this is the implementation\n",
    "  type X[R <: Recurse] = R#X[R#Next]\n",
    "}\n",
    "object Recurse {\n",
    "  // infinite loop\n",
    "  type C = RecurseA#X[RecurseA]\n",
    "}"
   ]
  },
  {
   "cell_type": "markdown",
   "metadata": {
    "slideshow": {
     "slide_type": "slide"
    }
   },
   "source": [
    "<img src=\"mostLoved.png\"/>"
   ]
  },
  {
   "cell_type": "markdown",
   "metadata": {
    "slideshow": {
     "slide_type": "slide"
    }
   },
   "source": [
    "<img src=\"topPaying.png\"/>"
   ]
  },
  {
   "cell_type": "markdown",
   "metadata": {
    "slideshow": {
     "slide_type": "slide"
    }
   },
   "source": [
    "<img src=awesome.png>"
   ]
  }
 ],
 "metadata": {
  "celltoolbar": "Slideshow",
  "kernelspec": {
   "display_name": "Scala 2.11",
   "language": "scala211",
   "name": "scala211"
  },
  "language_info": {
   "codemirror_mode": "text/x-scala",
   "file_extension": ".scala",
   "mimetype": "text/x-scala",
   "name": "scala211",
   "pygments_lexer": "scala",
   "version": "2.11.8"
  }
 },
 "nbformat": 4,
 "nbformat_minor": 0
}
