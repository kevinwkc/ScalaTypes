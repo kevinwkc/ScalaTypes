{
 "cells": [
  {
   "cell_type": "markdown",
   "metadata": {},
   "source": [
    "### Basic Types"
   ]
  },
  {
   "cell_type": "markdown",
   "metadata": {},
   "source": [
    "<img src=\"scalaTypes.png\" height=\"500\" width=\"500\">"
   ]
  },
  {
   "cell_type": "code",
   "execution_count": 1,
   "metadata": {
    "collapsed": false
   },
   "outputs": [
    {
     "data": {
      "text/plain": [
       "\u001b[36mx\u001b[0m: \u001b[32mAny\u001b[0m = 10\n",
       "\u001b[36my\u001b[0m: \u001b[32mAny\u001b[0m = Hello Types\n",
       "\u001b[36mz\u001b[0m: \u001b[32mAny\u001b[0m = List(1, 2, 3)"
      ]
     },
     "metadata": {},
     "output_type": "display_data"
    }
   ],
   "source": [
    "val x:Any = 10\n",
    "val y:Any = \"Hello Types\"\n",
    "val z:Any = List(1,2,3)"
   ]
  },
  {
   "cell_type": "code",
   "execution_count": 2,
   "metadata": {
    "collapsed": false
   },
   "outputs": [
    {
     "data": {
      "text/plain": [
       "\u001b[36mx1\u001b[0m: \u001b[32mAnyVal\u001b[0m = 10\n",
       "\u001b[36my2\u001b[0m: \u001b[32mAnyRef\u001b[0m = Hi"
      ]
     },
     "metadata": {},
     "output_type": "display_data"
    }
   ],
   "source": [
    "// Remove comments to see error\n",
    "val x1: AnyVal = 10\n",
    "//val x2: AnyRef = 10\n",
    "//val y1: AnyVal = \"Hi\"\n",
    "val y2: AnyRef = \"Hi\""
   ]
  },
  {
   "cell_type": "code",
   "execution_count": 3,
   "metadata": {
    "collapsed": false
   },
   "outputs": [
    {
     "data": {
      "text/plain": [
       "\u001b[36mobj\u001b[0m: \u001b[32mObject\u001b[0m = Hi\n",
       "\u001b[36mref\u001b[0m: \u001b[32mAnyRef\u001b[0m = Hi"
      ]
     },
     "metadata": {},
     "output_type": "display_data"
    }
   ],
   "source": [
    "val obj:Object = \"Hi\" \n",
    "val ref:AnyRef = obj // same as java Object"
   ]
  },
  {
   "cell_type": "code",
   "execution_count": 4,
   "metadata": {
    "collapsed": false
   },
   "outputs": [
    {
     "data": {
      "text/plain": [
       "\u001b[36mx1\u001b[0m: \u001b[32mAny\u001b[0m = null\n",
       "\u001b[36my1\u001b[0m: \u001b[32mAnyRef\u001b[0m = null"
      ]
     },
     "metadata": {},
     "output_type": "display_data"
    }
   ],
   "source": [
    "//val x:Any = scala.Nothing\n",
    "//val y:Any = scala.Null\n",
    "//val z:AnyVal = null\n",
    "val x1:Any = null\n",
    "val y1:AnyRef = null"
   ]
  },
  {
   "cell_type": "code",
   "execution_count": 5,
   "metadata": {
    "collapsed": false
   },
   "outputs": [
    {
     "name": "stdout",
     "output_type": "stream",
     "text": [
      "init y\n",
      "init x\n"
     ]
    },
    {
     "data": {
      "text/plain": [
       "\u001b[36mx\u001b[0m: \u001b[32mInt\u001b[0m = \u001b[32m<lazy>\u001b[0m\n",
       "\u001b[36my\u001b[0m: \u001b[32mInt\u001b[0m = \u001b[32m10\u001b[0m"
      ]
     },
     "metadata": {},
     "output_type": "display_data"
    }
   ],
   "source": [
    "//sideNote there are lazy vals\n",
    "\n",
    "lazy val x = {println(\"init x\") ;10}\n",
    "val y = {println(\"init y\"); x}"
   ]
  },
  {
   "cell_type": "markdown",
   "metadata": {},
   "source": [
    "### Traits"
   ]
  },
  {
   "cell_type": "code",
   "execution_count": 6,
   "metadata": {
    "collapsed": false
   },
   "outputs": [
    {
     "data": {
      "text/plain": [
       "defined \u001b[32mtrait \u001b[36mSomeTrait\u001b[0m\n",
       "defined \u001b[32mtrait \u001b[36mTrait_Having_Fields_Methods_AbstractMethods\u001b[0m\n",
       "defined \u001b[32mtrait \u001b[36mCan\u001b[0m\n",
       "\u001b[36mcan\u001b[0m: \u001b[32mAnyRef\u001b[0m with \u001b[32m$user\u001b[0m.\u001b[32mCan\u001b[0m = cmd5$$user$$anonfun$3$$anon$1@6355c69d\n",
       "\u001b[36mres5_4\u001b[0m: \u001b[32mInt\u001b[0m = \u001b[32m11\u001b[0m\n",
       "\u001b[36mres5_5\u001b[0m: \u001b[32mString\u001b[0m = \u001b[32m\"new Hi\"\u001b[0m\n",
       "\u001b[36mres5_6\u001b[0m: \u001b[32mInt\u001b[0m = \u001b[32m20\u001b[0m"
      ]
     },
     "metadata": {},
     "output_type": "display_data"
    }
   ],
   "source": [
    "trait SomeTrait\n",
    "trait Trait_Having_Fields_Methods_AbstractMethods{\n",
    "    val x = 10 \n",
    "    def y = \"Hi\"\n",
    "    def z:Int\n",
    "}\n",
    "\n",
    "trait Can extends SomeTrait with Trait_Having_Fields_Methods_AbstractMethods{\n",
    "    override val x = 11 // bad practice to override vals\n",
    "    override val y = \"new Hi\"\n",
    "    override val z = 20\n",
    "}\n",
    "\n",
    "val can = new Can{}\n",
    "can.x\n",
    "can.y\n",
    "can.z"
   ]
  },
  {
   "cell_type": "markdown",
   "metadata": {},
   "source": [
    "### Class"
   ]
  },
  {
   "cell_type": "code",
   "execution_count": 7,
   "metadata": {
    "collapsed": false
   },
   "outputs": [
    {
     "data": {
      "text/plain": [
       "defined \u001b[32mtrait \u001b[36mMammal\u001b[0m\n",
       "defined \u001b[32mclass \u001b[36mAnimal\u001b[0m\n",
       "defined \u001b[32mclass \u001b[36mDog\u001b[0m"
      ]
     },
     "metadata": {},
     "output_type": "display_data"
    }
   ],
   "source": [
    "trait Mammal\n",
    "class Animal\n",
    "class Dog(noOfLegs:Int) extends Animal with Mammal{\n",
    "    def hasTail = true\n",
    "}"
   ]
  },
  {
   "cell_type": "code",
   "execution_count": 7,
   "metadata": {
    "collapsed": false
   },
   "outputs": [
    {
     "ename": "",
     "evalue": "",
     "output_type": "error",
     "traceback": [
      "\u001b[31mMain.scala:27: class Mammal needs to be a trait to be mixed in",
      "              class Mammal ; class Animal ; class Dog(noOfLegs:Int) extends Animal with Mammal{",
      "                                                                                        ^\u001b[0m"
     ]
    }
   ],
   "source": [
    "class Mammal\n",
    "class Animal\n",
    "class Dog(noOfLegs:Int) extends Animal with Mammal{\n",
    "    def hasTail = true\n",
    "}"
   ]
  },
  {
   "cell_type": "code",
   "execution_count": 7,
   "metadata": {
    "collapsed": false
   },
   "outputs": [
    {
     "ename": "",
     "evalue": "",
     "output_type": "error",
     "traceback": [
      "\u001b[31mMain.scala:27: illegal inheritance; superclass Animal",
      " is not a subclass of the superclass Mammal",
      " of the mixin trait MammalTrait",
      "              class Mammal ; trait MammalTrait extends Mammal ; class Animal ; class Dog(noOfLegs:Int) extends Animal with MammalTrait{",
      "                                                                                                                           ^\u001b[0m"
     ]
    }
   ],
   "source": [
    "class Mammal\n",
    "trait MammalTrait extends Mammal // trait can extend class. But with restrictions\n",
    "class Animal\n",
    "class Dog(noOfLegs:Int) extends Animal with MammalTrait{\n",
    "    def hasTail = true\n",
    "}"
   ]
  },
  {
   "cell_type": "markdown",
   "metadata": {},
   "source": [
    "## Compound Types"
   ]
  },
  {
   "cell_type": "code",
   "execution_count": 8,
   "metadata": {
    "collapsed": false
   },
   "outputs": [
    {
     "data": {
      "text/plain": [
       "defined \u001b[32mtrait \u001b[36mCanSee\u001b[0m\n",
       "defined \u001b[32mtrait \u001b[36mCanMove\u001b[0m\n",
       "defined \u001b[32mclass \u001b[36mSeeAndMove\u001b[0m\n",
       "defined \u001b[32mfunction \u001b[36mwatchAndMove\u001b[0m"
      ]
     },
     "metadata": {},
     "output_type": "display_data"
    }
   ],
   "source": [
    "trait CanSee{\n",
    "    def see(): this.type\n",
    "}\n",
    "trait CanMove{\n",
    "    def move() \n",
    "}\n",
    "\n",
    "class SeeAndMove extends CanSee with CanMove{\n",
    "    def see() = this\n",
    "    def move() = {}\n",
    "}\n",
    "\n",
    "def watchAndMove(it:CanSee with CanMove) = {\n",
    "    it.see().move() // cannot chain if see doesn't return this.type\n",
    "} \n",
    "\n",
    "watchAndMove(new SeeAndMove)"
   ]
  },
  {
   "cell_type": "markdown",
   "metadata": {},
   "source": [
    "## Structural Types"
   ]
  },
  {
   "cell_type": "code",
   "execution_count": 9,
   "metadata": {
    "collapsed": false
   },
   "outputs": [
    {
     "name": "stdout",
     "output_type": "stream",
     "text": [
      "Animal\n",
      "Car\n"
     ]
    },
    {
     "data": {
      "text/plain": [
       "defined \u001b[32mclass \u001b[36mAnimal\u001b[0m\n",
       "defined \u001b[32mclass \u001b[36mCar\u001b[0m\n",
       "defined \u001b[32mfunction \u001b[36mnamePrinter\u001b[0m"
      ]
     },
     "metadata": {},
     "output_type": "display_data"
    }
   ],
   "source": [
    "class Animal{\n",
    "    def name:String = \"Animal\"\n",
    "}\n",
    "\n",
    "class Car{\n",
    "    def name:String = \"Car\"\n",
    "}\n",
    "\n",
    "def namePrinter(it: {def name:String}) = println(it.name)\n",
    "\n",
    "namePrinter(new Animal)\n",
    "namePrinter(new Car)"
   ]
  },
  {
   "cell_type": "markdown",
   "metadata": {},
   "source": [
    "### Case Classes"
   ]
  },
  {
   "cell_type": "code",
   "execution_count": 10,
   "metadata": {
    "collapsed": false
   },
   "outputs": [
    {
     "data": {
      "text/plain": [
       "defined \u001b[32mclass \u001b[36mPerson\u001b[0m\n",
       "defined \u001b[32mtrait \u001b[36mPhysicalQantity\u001b[0m\n",
       "defined \u001b[32mclass \u001b[36mMass\u001b[0m\n",
       "defined \u001b[32mclass \u001b[36mLength\u001b[0m\n",
       "\u001b[36mx\u001b[0m: \u001b[32m$user\u001b[0m.\u001b[32mPhysicalQantity\u001b[0m = Mass(10.0)\n",
       "\u001b[36mq\u001b[0m: \u001b[32mFloat\u001b[0m = \u001b[32m10.0F\u001b[0m"
      ]
     },
     "metadata": {},
     "output_type": "display_data"
    }
   ],
   "source": [
    "case class Person(name:String, age:Int)\n",
    "\n",
    "sealed trait PhysicalQantity\n",
    "case class Mass(value:Float) extends PhysicalQantity\n",
    "case class Length(value:Float) extends PhysicalQantity\n",
    "\n",
    "val x:PhysicalQantity = Mass(10)\n",
    "\n",
    "val q = x match{\n",
    "    case Mass(v) => v\n",
    "    case Length(v) => v\n",
    "}"
   ]
  },
  {
   "cell_type": "markdown",
   "metadata": {},
   "source": [
    "### Value Class"
   ]
  },
  {
   "cell_type": "code",
   "execution_count": 39,
   "metadata": {
    "collapsed": false
   },
   "outputs": [
    {
     "data": {
      "text/plain": [
       "defined \u001b[32mclass \u001b[36mValueClass\u001b[0m\n",
       "defined \u001b[32mclass \u001b[36mValueCaseClass\u001b[0m"
      ]
     },
     "metadata": {},
     "output_type": "display_data"
    }
   ],
   "source": [
    "import special.wrap.obj\n",
    "\n",
    "class ValueClass(val value:Int) extends AnyVal\n",
    "\n",
    "case class ValueCaseClass(value:Int) extends AnyVal "
   ]
  },
  {
   "cell_type": "markdown",
   "metadata": {},
   "source": [
    "### Objects"
   ]
  },
  {
   "cell_type": "code",
   "execution_count": 11,
   "metadata": {
    "collapsed": false
   },
   "outputs": [
    {
     "data": {
      "text/plain": [
       "defined \u001b[32mobject \u001b[36mIfRequired\u001b[0m\n",
       "defined \u001b[32mobject \u001b[36mAlso\u001b[0m"
      ]
     },
     "metadata": {},
     "output_type": "display_data"
    }
   ],
   "source": [
    "object IfRequired extends SomeTrait\n",
    "\n",
    "object Also extends Trait_Having_Fields_Methods_AbstractMethods{\n",
    "    override def z = 10\n",
    "}"
   ]
  },
  {
   "cell_type": "code",
   "execution_count": 12,
   "metadata": {
    "collapsed": false
   },
   "outputs": [
    {
     "data": {
      "text/plain": [
       "defined \u001b[32mobject \u001b[36mASingle\u001b[0m\n",
       "\u001b[36mres11_1\u001b[0m: \u001b[32mString\u001b[0m = \u001b[32m\"I'm Singleton\"\u001b[0m"
      ]
     },
     "metadata": {},
     "output_type": "display_data"
    }
   ],
   "source": [
    "// They are our singletons in scala\n",
    "object ASingle{\n",
    "    val identify = \"I'm Singleton\"\n",
    "}\n",
    "\n",
    "ASingle.identify"
   ]
  },
  {
   "cell_type": "code",
   "execution_count": 12,
   "metadata": {
    "collapsed": false
   },
   "outputs": [
    {
     "ename": "",
     "evalue": "",
     "output_type": "error",
     "traceback": [
      "\u001b[31mMain.scala:24: only classes can have declared but undefined members",
      "    def x:Int",
      "        ^\u001b[0m"
     ]
    }
   ],
   "source": [
    "object CannotHaveAbstractMembers{\n",
    "    def x:Int\n",
    "}"
   ]
  },
  {
   "cell_type": "code",
   "execution_count": 13,
   "metadata": {
    "collapsed": false
   },
   "outputs": [
    {
     "data": {
      "text/plain": [
       "defined \u001b[32mtrait \u001b[36mPhysicalQantity\u001b[0m\n",
       "defined \u001b[32mclass \u001b[36mMass\u001b[0m\n",
       "defined \u001b[32mclass \u001b[36mForce\u001b[0m\n",
       "defined \u001b[32mobject \u001b[36mMass\u001b[0m\n",
       "defined \u001b[32mobject \u001b[36mForce\u001b[0m\n",
       "\u001b[36mf\u001b[0m: \u001b[32m$user\u001b[0m.\u001b[32mForce\u001b[0m = cmd12$$user$Force@1f07bab8\n",
       "\u001b[36mq\u001b[0m: \u001b[32m$user\u001b[0m.\u001b[32mPhysicalQantity\u001b[0m = cmd12$$user$Force@1f07bab8\n",
       "\u001b[36mres12_7\u001b[0m: (\u001b[32mFloat\u001b[0m, \u001b[32mString\u001b[0m, \u001b[32mBoolean\u001b[0m) = \u001b[33m\u001b[0m(\u001b[32m10.0F\u001b[0m, \u001b[32m\"N\"\u001b[0m, \u001b[32mtrue\u001b[0m)"
      ]
     },
     "metadata": {},
     "output_type": "display_data"
    }
   ],
   "source": [
    "//Im a companion object\n",
    "\n",
    "sealed trait PhysicalQantity{\n",
    "    def myUnit:String\n",
    "    def value:Float\n",
    "    def isScalar:Boolean\n",
    "    def isVector:Boolean = !isScalar\n",
    "}\n",
    "\n",
    "class Mass private (val value:Float, val isScalar:Boolean = true) extends PhysicalQantity{\n",
    "    override def myUnit = Mass.units\n",
    "}\n",
    "class Force private (val value:Float, val isScalar:Boolean = false) extends PhysicalQantity{\n",
    "    override def myUnit = Force.units\n",
    "}\n",
    "\n",
    "object Mass{\n",
    "    def apply(value:Float) = new Mass(value)\n",
    "    private def units = \"kg\"\n",
    "    \n",
    "    def unapply(q:PhysicalQantity) = if (q.myUnit == units) Some(q) else None\n",
    "}\n",
    "\n",
    "object Force{\n",
    "    def apply(value:Float) = new Force(value)\n",
    "    private def units = \"N\"\n",
    "    \n",
    "    def unapply(q:PhysicalQantity) = if (q.myUnit == units) Some(q) else None\n",
    "}\n",
    "\n",
    "val f = Force(10)\n",
    "\n",
    "val q = f match {\n",
    "    case Mass(m) => m\n",
    "    case Force(f) => f\n",
    "}\n",
    "\n",
    "(q.value, q.myUnit, q.isVector)"
   ]
  },
  {
   "cell_type": "markdown",
   "metadata": {},
   "source": [
    "### Inner Classes"
   ]
  },
  {
   "cell_type": "code",
   "execution_count": 14,
   "metadata": {
    "collapsed": false
   },
   "outputs": [
    {
     "data": {
      "text/plain": [
       "defined \u001b[32mclass \u001b[36mOuter\u001b[0m\n",
       "\u001b[36mouter1\u001b[0m: \u001b[32m$user\u001b[0m.\u001b[32mOuter\u001b[0m = cmd13$$user$Outer@4bdbbd46\n",
       "\u001b[36mouter2\u001b[0m: \u001b[32m$user\u001b[0m.\u001b[32mOuter\u001b[0m = cmd13$$user$Outer@43ad5ea6\n",
       "\u001b[36minner1\u001b[0m: \u001b[32m$user\u001b[0m.\u001b[32mouter1\u001b[0m.\u001b[32mInner\u001b[0m = cmd13$$user$Outer$Inner@6731dfdd\n",
       "\u001b[36minner2\u001b[0m: \u001b[32m$user\u001b[0m.\u001b[32mouter2\u001b[0m.\u001b[32mInner\u001b[0m = cmd13$$user$Outer$Inner@654d60d1\n",
       "\u001b[36mres13_5\u001b[0m: \u001b[32mBoolean\u001b[0m = \u001b[32mfalse\u001b[0m"
      ]
     },
     "metadata": {},
     "output_type": "display_data"
    }
   ],
   "source": [
    "class Outer{\n",
    "    class Inner{\n",
    "        val name = \"I m Inner class\"\n",
    "    }\n",
    "}\n",
    "\n",
    "val outer1 = new Outer\n",
    "val outer2 = new Outer\n",
    "\n",
    "val inner1 = new outer1.Inner\n",
    "val inner2 = new outer2.Inner\n",
    "\n",
    "inner1 == inner2\n"
   ]
  },
  {
   "cell_type": "code",
   "execution_count": 14,
   "metadata": {
    "collapsed": false
   },
   "outputs": [
    {
     "ename": "",
     "evalue": "",
     "output_type": "error",
     "traceback": [
      "\u001b[31mMain.scala:58: type mismatch;",
      " found   : $user.this.itOrg.Department",
      " required: $user.this.pOrg.Department",
      "pOrg.cost(sales)",
      "          ^\u001b[0m",
      "\u001b[31mMain.scala:61: type mismatch;",
      " found   : $user.this.pOrg.Department",
      " required: $user.this.itOrg.Department",
      "itOrg.cost(crime)",
      "           ^\u001b[0m"
     ]
    }
   ],
   "source": [
    "class Organisation(name:String){\n",
    "    class Department(name:String)\n",
    "    \n",
    "    def cost(dep:Department) = {}\n",
    "}\n",
    "\n",
    "val pOrg = new Organisation(\"Police\")\n",
    "\n",
    "val crime = new pOrg.Department(\"Crime\")\n",
    "val traffic = new pOrg.Department(\"Traffic\")\n",
    "\n",
    "pOrg.cost(crime)\n",
    "pOrg.cost(traffic)\n",
    "\n",
    "\n",
    "val itOrg = new Organisation(\"Some IT\")\n",
    "\n",
    "val support = new itOrg.Department(\"Support\")\n",
    "val sales = new itOrg.Department(\"Sales\")\n",
    "\n",
    "itOrg.cost(support)\n",
    "itOrg.cost(sales)\n",
    "\n",
    "\n",
    "pOrg.cost(sales)\n",
    "itOrg.cost(crime)\n"
   ]
  },
  {
   "cell_type": "markdown",
   "metadata": {},
   "source": [
    "### Type Projection"
   ]
  },
  {
   "cell_type": "code",
   "execution_count": 15,
   "metadata": {
    "collapsed": false
   },
   "outputs": [
    {
     "data": {
      "text/plain": [
       "defined \u001b[32mclass \u001b[36mOrganisation\u001b[0m\n",
       "\u001b[36mpOrg\u001b[0m: \u001b[32m$user\u001b[0m.\u001b[32mOrganisation\u001b[0m = cmd14$$user$Organisation@7923a95c\n",
       "\u001b[36mcrime\u001b[0m: \u001b[32m$user\u001b[0m.\u001b[32mpOrg\u001b[0m.\u001b[32mDepartment\u001b[0m = cmd14$$user$Organisation$Department@6408414\n",
       "\u001b[36mtraffic\u001b[0m: \u001b[32m$user\u001b[0m.\u001b[32mpOrg\u001b[0m.\u001b[32mDepartment\u001b[0m = cmd14$$user$Organisation$Department@3e4d225e\n",
       "\u001b[36mitOrg\u001b[0m: \u001b[32m$user\u001b[0m.\u001b[32mOrganisation\u001b[0m = cmd14$$user$Organisation@1aee236e\n",
       "\u001b[36msupport\u001b[0m: \u001b[32m$user\u001b[0m.\u001b[32mitOrg\u001b[0m.\u001b[32mDepartment\u001b[0m = cmd14$$user$Organisation$Department@39579238\n",
       "\u001b[36msales\u001b[0m: \u001b[32m$user\u001b[0m.\u001b[32mitOrg\u001b[0m.\u001b[32mDepartment\u001b[0m = cmd14$$user$Organisation$Department@163f9cf7"
      ]
     },
     "metadata": {},
     "output_type": "display_data"
    }
   ],
   "source": [
    "class Organisation(name:String){\n",
    "    class Department(name:String)\n",
    "    \n",
    "    def cost(dep:Organisation#Department) = {}\n",
    "}\n",
    "\n",
    "val pOrg = new Organisation(\"Police\")\n",
    "\n",
    "val crime = new pOrg.Department(\"Crime\")\n",
    "val traffic = new pOrg.Department(\"Traffic\")\n",
    "\n",
    "pOrg.cost(crime)\n",
    "pOrg.cost(traffic)\n",
    "\n",
    "\n",
    "val itOrg = new Organisation(\"Some IT\")\n",
    "\n",
    "val support = new itOrg.Department(\"Support\")\n",
    "val sales = new itOrg.Department(\"Sales\")\n",
    "\n",
    "itOrg.cost(support)\n",
    "itOrg.cost(sales)\n",
    "\n",
    "\n",
    "pOrg.cost(sales)\n",
    "itOrg.cost(crime)"
   ]
  },
  {
   "cell_type": "markdown",
   "metadata": {},
   "source": [
    "### Parameterized Types"
   ]
  },
  {
   "cell_type": "code",
   "execution_count": 16,
   "metadata": {
    "collapsed": false
   },
   "outputs": [
    {
     "data": {
      "text/plain": [
       "defined \u001b[32mclass \u001b[36mStack\u001b[0m\n",
       "\u001b[36mintStack\u001b[0m: \u001b[32m$user\u001b[0m.\u001b[32mStack\u001b[0m[\u001b[32mInt\u001b[0m] = cmd15$$user$Stack@1a91bd40\n",
       "\u001b[36mres15_4\u001b[0m: \u001b[32mInt\u001b[0m = \u001b[32m2\u001b[0m\n",
       "\u001b[36mres15_6\u001b[0m: \u001b[32mInt\u001b[0m = \u001b[32m1\u001b[0m"
      ]
     },
     "metadata": {},
     "output_type": "display_data"
    }
   ],
   "source": [
    "class Stack[A]{ \n",
    "    var elems: List[A] = Nil\n",
    "    \n",
    "    def push(x:A) = elems = x :: elems\n",
    "    def pop = elems = elems.tail\n",
    "    def top = elems.head\n",
    "}\n",
    "\n",
    "val intStack = new Stack[Int]\n",
    "\n",
    "intStack.push(1)\n",
    "intStack.push(2)\n",
    "intStack.top\n",
    "\n",
    "intStack.pop\n",
    "intStack.top"
   ]
  },
  {
   "cell_type": "code",
   "execution_count": 17,
   "metadata": {
    "collapsed": false
   },
   "outputs": [
    {
     "data": {
      "text/plain": [
       "defined \u001b[32mclass \u001b[36mStack\u001b[0m\n",
       "\u001b[36mintStack\u001b[0m: \u001b[32m$user\u001b[0m.\u001b[32mStack\u001b[0m[\u001b[32mInt\u001b[0m] = cmd16$$user$Stack@3f67a782\n",
       "\u001b[36mnewStack\u001b[0m: \u001b[32m$user\u001b[0m.\u001b[32mStack\u001b[0m[\u001b[32mString\u001b[0m] = cmd16$$user$Stack@5ffc5918\n",
       "\u001b[36mres16_3\u001b[0m: \u001b[32mString\u001b[0m = \u001b[32m\"2\"\u001b[0m"
      ]
     },
     "metadata": {},
     "output_type": "display_data"
    }
   ],
   "source": [
    "class Stack[A](elems:List[A] = Nil){ \n",
    "    \n",
    "    def push(x:A) = new Stack(x :: elems)\n",
    "                                    \n",
    "    def pop = new Stack(elems.tail)\n",
    "        \n",
    "    def top = elems.head\n",
    "    \n",
    "    def map[B](f: A => B) = {\n",
    "        new Stack[B](elems.map(f))\n",
    "    }\n",
    "}\n",
    "\n",
    "val intStack = new Stack[Int].push(1).push(2)\n",
    "\n",
    "val newStack = intStack.map{x => x.toString}\n",
    "newStack.top"
   ]
  },
  {
   "cell_type": "markdown",
   "metadata": {},
   "source": [
    "### Type Members"
   ]
  },
  {
   "cell_type": "code",
   "execution_count": 18,
   "metadata": {
    "collapsed": false
   },
   "outputs": [
    {
     "data": {
      "text/plain": [
       "defined \u001b[32mclass \u001b[36mStack\u001b[0m\n",
       "\u001b[36mintStack\u001b[0m: \u001b[32m$user\u001b[0m.\u001b[32mStack\u001b[0m{type A = Int} = cmd17$$user$$anonfun$3$$anon$1@6acd18d2\n",
       "\u001b[36mnewStack\u001b[0m: \u001b[32m$user\u001b[0m.\u001b[32mStack\u001b[0m{type A = String} = cmd17$$user$Stack$$anon$2@31cb60b1\n",
       "\u001b[36mres17_5\u001b[0m: \u001b[32m$user\u001b[0m.\u001b[32mnewStack\u001b[0m.\u001b[32mA\u001b[0m = \u001b[32m\"2\"\u001b[0m"
      ]
     },
     "metadata": {},
     "output_type": "display_data"
    }
   ],
   "source": [
    "class Stack{\n",
    "    type A\n",
    "    var elems: List[A] = Nil\n",
    "    \n",
    "    def push(x:A) = elems = x :: elems\n",
    "    def pop = elems = elems.tail\n",
    "    def top = elems.head\n",
    "    \n",
    "    def map[B](f: A => B) = {\n",
    "        val s = new Stack{type A = B}\n",
    "        s.elems = Stack.this.elems.map(f)\n",
    "        s\n",
    "    }\n",
    "}\n",
    "\n",
    "val intStack = new Stack{type A = Int}\n",
    "\n",
    "intStack.push(1)\n",
    "intStack.push(2)\n",
    "\n",
    "val newStack = intStack.map{x => x.toString}\n",
    "newStack.top"
   ]
  },
  {
   "cell_type": "markdown",
   "metadata": {},
   "source": [
    "### Variance"
   ]
  },
  {
   "cell_type": "markdown",
   "metadata": {},
   "source": [
    "#### Invariant"
   ]
  },
  {
   "cell_type": "markdown",
   "metadata": {
    "collapsed": false
   },
   "source": [
    "Home[Dog] and Home[Animal] are both different"
   ]
  },
  {
   "cell_type": "code",
   "execution_count": 18,
   "metadata": {
    "collapsed": false
   },
   "outputs": [
    {
     "ename": "",
     "evalue": "",
     "output_type": "error",
     "traceback": [
      "\u001b[31mMain.scala:31: type mismatch;",
      " found   : $user.this.Home[$user.this.Dog]",
      " required: $user.this.Home[$user.this.Animal]",
      "Note: $user.this.Dog <: $user.this.Animal, but class Home is invariant in type A.",
      "You may wish to define A as +A instead. (SLS 4.5)",
      "}.apply",
      "  ^\u001b[0m"
     ]
    }
   ],
   "source": [
    "\n",
    "class Home[A]\n",
    "\n",
    "class Animal\n",
    "class Dog extends Animal\n",
    "\n",
    "val dogHome = new Home[Dog]\n",
    "val animalHome:Home[Animal]  =  dogHome\n"
   ]
  },
  {
   "cell_type": "markdown",
   "metadata": {},
   "source": [
    "#### Covariant"
   ]
  },
  {
   "cell_type": "markdown",
   "metadata": {
    "collapsed": false
   },
   "source": [
    "Home[Dog] is subtype of Home[Animal]"
   ]
  },
  {
   "cell_type": "code",
   "execution_count": 19,
   "metadata": {
    "collapsed": false
   },
   "outputs": [
    {
     "data": {
      "text/plain": [
       "defined \u001b[32mclass \u001b[36mHome\u001b[0m\n",
       "defined \u001b[32mclass \u001b[36mAnimal\u001b[0m\n",
       "defined \u001b[32mclass \u001b[36mDog\u001b[0m\n",
       "\u001b[36mdogHome\u001b[0m: \u001b[32m$user\u001b[0m.\u001b[32mHome\u001b[0m[\u001b[32m$user\u001b[0m.\u001b[32mDog\u001b[0m] = cmd18$$user$Home@55ef9bda\n",
       "\u001b[36manimalHome\u001b[0m: \u001b[32m$user\u001b[0m.\u001b[32mHome\u001b[0m[\u001b[32m$user\u001b[0m.\u001b[32mAnimal\u001b[0m] = cmd18$$user$Home@55ef9bda"
      ]
     },
     "metadata": {},
     "output_type": "display_data"
    }
   ],
   "source": [
    "class Home[+A]\n",
    "\n",
    "class Animal\n",
    "class Dog extends Animal\n",
    "\n",
    "val dogHome = new Home[Dog]\n",
    "val animalHome:Home[Animal]  =  dogHome"
   ]
  },
  {
   "cell_type": "markdown",
   "metadata": {},
   "source": [
    "#### Contravariant"
   ]
  },
  {
   "cell_type": "markdown",
   "metadata": {
    "collapsed": false
   },
   "source": [
    "Home[Animal] is subtype of Home[Dog]"
   ]
  },
  {
   "cell_type": "code",
   "execution_count": 20,
   "metadata": {
    "collapsed": false
   },
   "outputs": [
    {
     "data": {
      "text/plain": [
       "defined \u001b[32mclass \u001b[36mHome\u001b[0m\n",
       "defined \u001b[32mclass \u001b[36mAnimal\u001b[0m\n",
       "defined \u001b[32mclass \u001b[36mDog\u001b[0m\n",
       "\u001b[36manimalHome\u001b[0m: \u001b[32m$user\u001b[0m.\u001b[32mHome\u001b[0m[\u001b[32m$user\u001b[0m.\u001b[32mAnimal\u001b[0m] = cmd19$$user$Home@103f6c59\n",
       "\u001b[36mdogHome\u001b[0m: \u001b[32m$user\u001b[0m.\u001b[32mHome\u001b[0m[\u001b[32m$user\u001b[0m.\u001b[32mDog\u001b[0m] = cmd19$$user$Home@103f6c59"
      ]
     },
     "metadata": {},
     "output_type": "display_data"
    }
   ],
   "source": [
    "class Home[-A]\n",
    "\n",
    "class Animal\n",
    "class Dog extends Animal\n",
    "\n",
    "\n",
    "val animalHome =  new Home[Animal]\n",
    "val dogHome:Home[Dog] = animalHome\n"
   ]
  },
  {
   "cell_type": "markdown",
   "metadata": {},
   "source": [
    "#### Application of variance as seen in functions"
   ]
  },
  {
   "cell_type": "code",
   "execution_count": 21,
   "metadata": {
    "collapsed": false
   },
   "outputs": [
    {
     "data": {
      "text/plain": [
       "defined \u001b[32mtrait \u001b[36mMusicInstrument\u001b[0m\n",
       "defined \u001b[32mclass \u001b[36mGuitar\u001b[0m\n",
       "defined \u001b[32mclass \u001b[36mPiano\u001b[0m\n",
       "defined \u001b[32mfunction \u001b[36misVintage\u001b[0m\n",
       "\u001b[36mvintageInstrumant\u001b[0m: \u001b[32m$user\u001b[0m.\u001b[32mMusicInstrument\u001b[0m => \u001b[32mBoolean\u001b[0m = <function1>\n",
       "\u001b[36mres20_5\u001b[0m: \u001b[32mBoolean\u001b[0m = \u001b[32mtrue\u001b[0m"
      ]
     },
     "metadata": {},
     "output_type": "display_data"
    }
   ],
   "source": [
    "trait MusicInstrument\n",
    "case class Guitar(productionYear: Int) extends MusicInstrument \n",
    "case class Piano(productionYear: Int) extends MusicInstrument\n",
    "\n",
    "// Function1[-T,+R]  // along the lines of PEGS\n",
    "\n",
    "def isVintage(g:Guitar)( f: Guitar => Boolean) = f(g)\n",
    "\n",
    "\n",
    "val vintageInstrumant:MusicInstrument => Boolean = {\n",
    "    case Guitar(prodYear) => prodYear < 1975\n",
    "    case Piano(prodYear) => prodYear < 1960\n",
    "} \n",
    "\n",
    "\n",
    "isVintage(Guitar(1955))(vintageInstrumant)\n",
    "\n"
   ]
  },
  {
   "cell_type": "markdown",
   "metadata": {},
   "source": [
    "### Infix Types (Actually its just a notation)"
   ]
  },
  {
   "cell_type": "code",
   "execution_count": 22,
   "metadata": {
    "collapsed": false
   },
   "outputs": [
    {
     "data": {
      "text/plain": [
       "defined \u001b[32mtrait \u001b[36mOr\u001b[0m\n",
       "defined \u001b[32mtype \u001b[36mNormal\u001b[0m\n",
       "defined \u001b[32mtype \u001b[36mAsInfix\u001b[0m"
      ]
     },
     "metadata": {},
     "output_type": "display_data"
    }
   ],
   "source": [
    "trait Or[A,B]\n",
    "\n",
    "type Normal = Or[Int, String]\n",
    "type AsInfix = Int Or String"
   ]
  },
  {
   "cell_type": "markdown",
   "metadata": {},
   "source": [
    "### Type Bounds"
   ]
  },
  {
   "cell_type": "code",
   "execution_count": 23,
   "metadata": {
    "collapsed": false
   },
   "outputs": [
    {
     "name": "stdout",
     "output_type": "stream",
     "text": [
      "Guitar(1900)\n"
     ]
    },
    {
     "data": {
      "text/plain": [
       "defined \u001b[32mclass \u001b[36mMusicInstrument\u001b[0m\n",
       "defined \u001b[32mclass \u001b[36mGuitar\u001b[0m\n",
       "defined \u001b[32mclass \u001b[36mPiano\u001b[0m\n",
       "defined \u001b[32mclass \u001b[36mInstrumentPrinter\u001b[0m"
      ]
     },
     "metadata": {},
     "output_type": "display_data"
    }
   ],
   "source": [
    "class MusicInstrument\n",
    "case class Guitar(productionYear: Int) extends MusicInstrument \n",
    "case class Piano(productionYear: Int) extends MusicInstrument\n",
    "\n",
    "class InstrumentPrinter[T <: MusicInstrument](inst:T){\n",
    "    def printInstrument = println(inst)\n",
    "}\n",
    "\n",
    "new InstrumentPrinter(Guitar(1900)).printInstrument\n",
    "\n",
    "//new Instrument(new Animal) // wont work"
   ]
  },
  {
   "cell_type": "code",
   "execution_count": 24,
   "metadata": {
    "collapsed": false
   },
   "outputs": [
    {
     "name": "stdout",
     "output_type": "stream",
     "text": [
      "Guitar(1900)\n"
     ]
    },
    {
     "data": {
      "text/plain": [
       "defined \u001b[32mclass \u001b[36mInstrumentPrinter\u001b[0m"
      ]
     },
     "metadata": {},
     "output_type": "display_data"
    }
   ],
   "source": [
    "class InstrumentPrinter[T >: Nothing](inst:T){\n",
    "    def printInstrument = println(inst)\n",
    "}\n",
    "\n",
    "new InstrumentPrinter(Guitar(1900)).printInstrument"
   ]
  },
  {
   "cell_type": "code",
   "execution_count": 25,
   "metadata": {
    "collapsed": false
   },
   "outputs": [
    {
     "name": "stdout",
     "output_type": "stream",
     "text": [
      "cmd24$$user$GuitarAClass1\n"
     ]
    },
    {
     "data": {
      "text/plain": [
       "defined \u001b[32mclass \u001b[36mInstrumentPrinter\u001b[0m\n",
       "defined \u001b[32mtrait \u001b[36mMusicInstrument\u001b[0m\n",
       "defined \u001b[32mclass \u001b[36mGuitarType\u001b[0m\n",
       "defined \u001b[32mclass \u001b[36mGuitarAClass\u001b[0m\n",
       "defined \u001b[32mclass \u001b[36mGuitarAClass1\u001b[0m"
      ]
     },
     "metadata": {},
     "output_type": "display_data"
    }
   ],
   "source": [
    "class InstrumentPrinter[T >: Nothing <: GuitarAClass](inst:T){\n",
    "    def printInstrument = println(inst.getClass().getName)\n",
    "}\n",
    "\n",
    "trait MusicInstrument\n",
    "class GuitarType(gType:String) extends MusicInstrument\n",
    "class GuitarAClass(productionYear: Int) extends GuitarType(\"A\") \n",
    "class GuitarAClass1(productionYear: Int) extends GuitarAClass(productionYear)\n",
    "\n",
    "new InstrumentPrinter(new GuitarAClass1(1900)).printInstrument\n",
    "\n",
    "//  new InstrumentPrinter(new GuitarType(\"A\")).printInstrument"
   ]
  },
  {
   "cell_type": "markdown",
   "metadata": {},
   "source": [
    "### Context Bounds (Type Classes)\n"
   ]
  },
  {
   "cell_type": "code",
   "execution_count": 25,
   "metadata": {
    "collapsed": false
   },
   "outputs": [
    {
     "ename": "",
     "evalue": "",
     "output_type": "error",
     "traceback": [
      "\u001b[31mMain.scala:29: could not find implicit value for evidence parameter of type $user.this.Context[String]",
      "find(\"string\")",
      "    ^\u001b[0m"
     ]
    }
   ],
   "source": [
    "trait Context[T]\n",
    "\n",
    "implicit object IntContext extends Context[Int]\n",
    "\n",
    "def find[T:Context](t:T) = {\n",
    "    val ctx = implicitly[Context[T]]\n",
    "}\n",
    "\n",
    "\n",
    "find(1)\n",
    "\n",
    "find(\"string\")"
   ]
  },
  {
   "cell_type": "code",
   "execution_count": 25,
   "metadata": {
    "collapsed": false
   },
   "outputs": [
    {
     "ename": "",
     "evalue": "",
     "output_type": "error",
     "traceback": [
      "\u001b[31mMain.scala:23: not found: type Context",
      "              def find2[T](t:T)(implicit ev:Context[T]) = {} ; val res25_1 = { () =>",
      "                                            ^\u001b[0m"
     ]
    }
   ],
   "source": [
    "def find2[T](t:T)(implicit ev:Context[T]) = {}\n",
    "\n",
    "find2(1)\n",
    "\n",
    "find2(\"String\")"
   ]
  },
  {
   "cell_type": "markdown",
   "metadata": {},
   "source": [
    "### Existential Types"
   ]
  },
  {
   "cell_type": "code",
   "execution_count": 26,
   "metadata": {
    "collapsed": false
   },
   "outputs": [
    {
     "data": {
      "text/plain": [
       "defined \u001b[32mfunction \u001b[36mlength1\u001b[0m\n",
       "\u001b[36mres25_1\u001b[0m: \u001b[32mInt\u001b[0m = \u001b[32m3\u001b[0m\n",
       "defined \u001b[32mfunction \u001b[36mlength2\u001b[0m\n",
       "\u001b[36mres25_3\u001b[0m: \u001b[32mInt\u001b[0m = \u001b[32m3\u001b[0m"
      ]
     },
     "metadata": {},
     "output_type": "display_data"
    }
   ],
   "source": [
    "def length1(l:List[_]) = l.length\n",
    "\n",
    "length1(List(\"bat\", \"pad\", 1))\n",
    "\n",
    "def length2(l:List[T forSome {type T}]) = l.length\n",
    "\n",
    "length2(List(\"bat\", \"pad\", 1))"
   ]
  },
  {
   "cell_type": "markdown",
   "metadata": {},
   "source": [
    "### Self Types"
   ]
  },
  {
   "cell_type": "code",
   "execution_count": 27,
   "metadata": {
    "collapsed": false
   },
   "outputs": [
    {
     "name": "stdout",
     "output_type": "stream",
     "text": [
      "A Stool:Plywood with 4\n"
     ]
    },
    {
     "data": {
      "text/plain": [
       "defined \u001b[32mclass \u001b[36mStoolPrinter\u001b[0m\n",
       "defined \u001b[32mtrait \u001b[36mStool\u001b[0m\n",
       "defined \u001b[32mobject \u001b[36mPrinter\u001b[0m"
      ]
     },
     "metadata": {},
     "output_type": "display_data"
    }
   ],
   "source": [
    " class StoolPrinter{ self:Stool =>\n",
    "        def printStool = println(\"A Stool:\" + name + \" with \" + legs)\n",
    " }\n",
    "\n",
    "trait Stool{\n",
    "    val name = \"Plywood\"\n",
    "    val legs = 4\n",
    "    def nameWithLegs = s\"$name:$legs\"\n",
    "}\n",
    "\n",
    "//new StoolPrinter()\n",
    "\n",
    "object Printer extends StoolPrinter with Stool\n",
    "\n",
    "Printer.printStool\n"
   ]
  },
  {
   "cell_type": "code",
   "execution_count": 28,
   "metadata": {
    "collapsed": false
   },
   "outputs": [
    {
     "name": "stdout",
     "output_type": "stream",
     "text": [
      "A Stool:Stool Printer with 4\n",
      "A Stool:Plywood with 4\n",
      "A Stool:Plywood with 4\n"
     ]
    },
    {
     "data": {
      "text/plain": [
       "defined \u001b[32mclass \u001b[36mStool1\u001b[0m\n",
       "defined \u001b[32mclass \u001b[36mStool2\u001b[0m\n",
       "defined \u001b[32mclass \u001b[36mStool3\u001b[0m"
      ]
     },
     "metadata": {},
     "output_type": "display_data"
    }
   ],
   "source": [
    "class Stool1{self =>\n",
    "    val name = \"Plywood\"\n",
    "    val legs = 4\n",
    "    def nameWithLegs = s\"$name:$legs\"\n",
    "    \n",
    "     class StoolPrinter{\n",
    "        val name = \"Stool Printer\"\n",
    "        def printStool = println(\"A Stool:\" + name + \" with \" + legs)\n",
    "     }\n",
    "    \n",
    "    def printStool = new StoolPrinter().printStool\n",
    "}\n",
    "\n",
    "new Stool1().printStool\n",
    "\n",
    "\n",
    "class Stool2{\n",
    "    val name = \"Plywood\"\n",
    "    val legs = 4\n",
    "    def nameWithLegs = s\"$name:$legs\"\n",
    "    \n",
    "     class StoolPrinter{\n",
    "        val name = \"Stool Printer\"\n",
    "        def printStool = println(\"A Stool:\" + Stool2.this.name + \" with \" + legs)\n",
    "     }\n",
    "    \n",
    "    def printStool = new StoolPrinter().printStool\n",
    "}\n",
    "\n",
    "new Stool2().printStool\n",
    "\n",
    "\n",
    "\n",
    "class Stool3{self =>\n",
    "    val name = \"Plywood\"\n",
    "    val legs = 4\n",
    "    def nameWithLegs = s\"$name:$legs\"\n",
    "    \n",
    "     class StoolPrinter{\n",
    "        val name = \"Stool Printer\"\n",
    "        def printStool = println(\"A Stool:\" + self.name + \" with \" + legs)\n",
    "     }\n",
    "    \n",
    "    def printStool = new StoolPrinter().printStool\n",
    "}\n",
    "\n",
    "new Stool3().printStool"
   ]
  },
  {
   "cell_type": "markdown",
   "metadata": {},
   "source": [
    "#### F-bounded with self type"
   ]
  },
  {
   "cell_type": "code",
   "execution_count": 29,
   "metadata": {
    "collapsed": false
   },
   "outputs": [
    {
     "data": {
      "text/plain": [
       "defined \u001b[32mtrait \u001b[36mFruit\u001b[0m\n",
       "defined \u001b[32mtrait \u001b[36mAnimal\u001b[0m\n",
       "defined \u001b[32mclass \u001b[36mDog\u001b[0m"
      ]
     },
     "metadata": {},
     "output_type": "display_data"
    }
   ],
   "source": [
    "trait Fruit\n",
    "\n",
    "trait Animal[T]\n",
    "class Dog extends Animal[Fruit]"
   ]
  },
  {
   "cell_type": "code",
   "execution_count": 30,
   "metadata": {
    "collapsed": false
   },
   "outputs": [
    {
     "data": {
      "text/plain": [
       "defined \u001b[32mtrait \u001b[36mFruit\u001b[0m\n",
       "defined \u001b[32mtrait \u001b[36mAnimal\u001b[0m\n",
       "defined \u001b[32mclass \u001b[36mDog\u001b[0m\n",
       "defined \u001b[32mclass \u001b[36mCow\u001b[0m"
      ]
     },
     "metadata": {},
     "output_type": "display_data"
    }
   ],
   "source": [
    "trait Fruit\n",
    "\n",
    "trait Animal[T <: Animal[T]]{\n",
    "    def name = ???\n",
    "}\n",
    "//class Dog extends Animal[Fruit]\n",
    "\n",
    "class Dog extends Animal[Dog]\n",
    "class Cow extends Animal[Dog]\n",
    "\n",
    "\n"
   ]
  },
  {
   "cell_type": "code",
   "execution_count": 31,
   "metadata": {
    "collapsed": false
   },
   "outputs": [
    {
     "data": {
      "text/plain": [
       "defined \u001b[32mtrait \u001b[36mAnimal\u001b[0m\n",
       "defined \u001b[32mclass \u001b[36mDog\u001b[0m\n",
       "defined \u001b[32mclass \u001b[36mCow\u001b[0m"
      ]
     },
     "metadata": {},
     "output_type": "display_data"
    }
   ],
   "source": [
    "trait Animal[T <: Animal[T]]{ self:T =>\n",
    "    def name = ???\n",
    "}\n",
    "\n",
    "class Dog extends Animal[Dog]\n",
    "//class Cow extends Animal[Dog]\n",
    "\n",
    "class Cow extends Animal[Cow]"
   ]
  },
  {
   "cell_type": "markdown",
   "metadata": {},
   "source": [
    "### Phantom Types"
   ]
  },
  {
   "cell_type": "code",
   "execution_count": 32,
   "metadata": {
    "collapsed": false
   },
   "outputs": [
    {
     "data": {
      "text/plain": [
       "defined \u001b[32mtrait \u001b[36mServiceState\u001b[0m\n",
       "defined \u001b[32mclass \u001b[36mStarted\u001b[0m\n",
       "defined \u001b[32mclass \u001b[36mStopped\u001b[0m\n",
       "defined \u001b[32mclass \u001b[36mService\u001b[0m\n",
       "defined \u001b[32mobject \u001b[36mService\u001b[0m"
      ]
     },
     "metadata": {},
     "output_type": "display_data"
    }
   ],
   "source": [
    "sealed trait ServiceState\n",
    "final class Started extends ServiceState\n",
    "final class Stopped extends ServiceState\n",
    "\n",
    "class Service[State <: ServiceState] private () {\n",
    "  def start[T >: State <: Stopped]() = this.asInstanceOf[Service[Started]]\n",
    "  def stop[T >: State <: Started]() = this.asInstanceOf[Service[Stopped]]\n",
    "}\n",
    "object Service {\n",
    "  def create() = new Service[Stopped]\n",
    "}\n"
   ]
  },
  {
   "cell_type": "code",
   "execution_count": 32,
   "metadata": {
    "collapsed": false
   },
   "outputs": [
    {
     "ename": "",
     "evalue": "",
     "output_type": "error",
     "traceback": [
      "\u001b[31mMain.scala:34: inferred type arguments [cmd32.this.$ref$cmd31.Stopped] do not conform to method stop's type parameter bounds [T >: cmd32.this.$ref$cmd31.Stopped <: cmd32.this.$ref$cmd31.Started]",
      "stopped.stop()",
      "        ^\u001b[0m",
      "\u001b[31mMain.scala:37: inferred type arguments [cmd32.this.$ref$cmd31.Started] do not conform to method start's type parameter bounds [T >: cmd32.this.$ref$cmd31.Started <: cmd32.this.$ref$cmd31.Stopped]",
      "started.start()",
      "        ^\u001b[0m"
     ]
    }
   ],
   "source": [
    "val initiallyStopped = Service.create()\n",
    "val started = initiallyStopped.start()\n",
    "val stopped = started.stop() \n",
    "\n",
    "stopped.stop()         \n",
    "started.start()  "
   ]
  },
  {
   "cell_type": "markdown",
   "metadata": {},
   "source": [
    "###  Kinded Types"
   ]
  },
  {
   "cell_type": "raw",
   "metadata": {},
   "source": [
    " Proper order\n",
    "Int  =>  *\n",
    "String => *\n",
    "\n",
    "First order\n",
    "List => * -> *\n",
    "List => Int -> List[Int]\n",
    "\n",
    "Map => * -> * -> *\n",
    "Map => String -> Int -> Map[String,Int]\n",
    "\n",
    "Higher order\n",
    "Functor[F[_]] => (* -> *) -> *\n",
    "Functor[F[_]] => List[Int] -> Functor[List[Int]]\n",
    "\n",
    "\n"
   ]
  },
  {
   "cell_type": "code",
   "execution_count": null,
   "metadata": {
    "collapsed": true
   },
   "outputs": [],
   "source": []
  },
  {
   "cell_type": "markdown",
   "metadata": {},
   "source": [
    "### Type Lambda"
   ]
  },
  {
   "cell_type": "code",
   "execution_count": 33,
   "metadata": {
    "collapsed": false
   },
   "outputs": [
    {
     "data": {
      "text/plain": [
       "defined \u001b[32mtrait \u001b[36mMonad\u001b[0m\n",
       "defined \u001b[32mclass \u001b[36mEitherMonad\u001b[0m"
      ]
     },
     "metadata": {},
     "output_type": "display_data"
    }
   ],
   "source": [
    "trait Monad[M[_]] {\n",
    "  def point[A](a: A): M[A]\n",
    "  def bind[A, B](m: M[A])(f: A => M[B]): M[B]\n",
    "}\n",
    "\n",
    "class EitherMonad[A] extends Monad[({type λ[α] = Either[A, α]})#λ] {\n",
    "  def point[B](b: B): Either[A, B] = ???\n",
    "  def bind[B, C](m: Either[A, B])(f: B => Either[A, C]): Either[A, C] = ???\n",
    "}\n",
    "\n",
    "// ref http://stackoverflow.com/questions/8736164/what-are-type-lambdas-in-scala-and-what-are-their-benefits"
   ]
  },
  {
   "cell_type": "markdown",
   "metadata": {},
   "source": [
    "### Type Classes"
   ]
  },
  {
   "cell_type": "code",
   "execution_count": null,
   "metadata": {
    "collapsed": true
   },
   "outputs": [],
   "source": []
  },
  {
   "cell_type": "code",
   "execution_count": null,
   "metadata": {
    "collapsed": true
   },
   "outputs": [],
   "source": []
  },
  {
   "cell_type": "code",
   "execution_count": null,
   "metadata": {
    "collapsed": true
   },
   "outputs": [],
   "source": []
  },
  {
   "cell_type": "code",
   "execution_count": null,
   "metadata": {
    "collapsed": true
   },
   "outputs": [],
   "source": []
  },
  {
   "cell_type": "code",
   "execution_count": 34,
   "metadata": {
    "collapsed": false
   },
   "outputs": [
    {
     "name": "stdout",
     "output_type": "stream",
     "text": [
      "x=0\n",
      "x=11\n"
     ]
    },
    {
     "data": {
      "text/plain": [
       "defined \u001b[32mtrait \u001b[36mA\u001b[0m\n",
       "defined \u001b[32mclass \u001b[36mAB\u001b[0m\n",
       "\u001b[36mres33_2\u001b[0m: \u001b[32m$user\u001b[0m.\u001b[32mAB\u001b[0m = cmd33$$user$AB@1aecb4ae"
      ]
     },
     "metadata": {},
     "output_type": "display_data"
    }
   ],
   "source": [
    "trait A{\n",
    "    val x = 10\n",
    "    println(s\"x=$x\")\n",
    "}\n",
    "class AB extends A{\n",
    "    override val x = 11\n",
    "    println(s\"x=$x\")\n",
    "}\n",
    "\n",
    "new AB()"
   ]
  },
  {
   "cell_type": "code",
   "execution_count": 35,
   "metadata": {
    "collapsed": false
   },
   "outputs": [
    {
     "name": "stdout",
     "output_type": "stream",
     "text": [
      "x=11\n",
      "x=11\n"
     ]
    },
    {
     "data": {
      "text/plain": [
       "defined \u001b[32mtrait \u001b[36mA\u001b[0m\n",
       "defined \u001b[32mclass \u001b[36mAB\u001b[0m\n",
       "\u001b[36mres34_2\u001b[0m: \u001b[32m$user\u001b[0m.\u001b[32mAB\u001b[0m = cmd34$$user$AB@3999633b"
      ]
     },
     "metadata": {},
     "output_type": "display_data"
    }
   ],
   "source": [
    "trait A{\n",
    "    val x = 10\n",
    "    println(s\"x=$x\")\n",
    "}\n",
    "class AB extends A{\n",
    "    override final val x = 11\n",
    "    println(s\"x=$x\")\n",
    "}\n",
    "\n",
    "new AB()"
   ]
  },
  {
   "cell_type": "code",
   "execution_count": 36,
   "metadata": {
    "collapsed": false
   },
   "outputs": [
    {
     "name": "stdout",
     "output_type": "stream",
     "text": [
      "x=11\n",
      "x=11\n"
     ]
    },
    {
     "data": {
      "text/plain": [
       "defined \u001b[32mtrait \u001b[36mA\u001b[0m\n",
       "defined \u001b[32mclass \u001b[36mAB\u001b[0m\n",
       "\u001b[36mres35_2\u001b[0m: \u001b[32m$user\u001b[0m.\u001b[32mAB\u001b[0m = cmd35$$user$AB@18442df6"
      ]
     },
     "metadata": {},
     "output_type": "display_data"
    }
   ],
   "source": [
    "trait A{\n",
    "    lazy val x = 10\n",
    "    println(s\"x=$x\")\n",
    "}\n",
    "class AB extends A{\n",
    "    override lazy val x = 11\n",
    "    println(s\"x=$x\")\n",
    "}\n",
    "\n",
    "new AB()"
   ]
  },
  {
   "cell_type": "code",
   "execution_count": 37,
   "metadata": {
    "collapsed": false
   },
   "outputs": [
    {
     "name": "stdout",
     "output_type": "stream",
     "text": [
      "Hi null\n"
     ]
    },
    {
     "data": {
      "text/plain": [
       "defined \u001b[32mtrait \u001b[36mGreeting\u001b[0m\n",
       "defined \u001b[32mclass \u001b[36mGreeter\u001b[0m\n",
       "\u001b[36mres36_2\u001b[0m: \u001b[32m$user\u001b[0m.\u001b[32mGreeter\u001b[0m = cmd36$$user$Greeter@2167d3e4"
      ]
     },
     "metadata": {},
     "output_type": "display_data"
    }
   ],
   "source": [
    "trait Greeting{\n",
    "    val name:String\n",
    "    val msg = \"Hi \"+ name\n",
    "}\n",
    "\n",
    "class Greeter extends Greeting{\n",
    "    override val name = \"Scala\"\n",
    "    println(msg)\n",
    "}\n",
    "\n",
    "new Greeter"
   ]
  },
  {
   "cell_type": "code",
   "execution_count": 38,
   "metadata": {
    "collapsed": false
   },
   "outputs": [
    {
     "name": "stdout",
     "output_type": "stream",
     "text": [
      "Hi Scala\n"
     ]
    },
    {
     "data": {
      "text/plain": [
       "defined \u001b[32mtrait \u001b[36mGreeting\u001b[0m\n",
       "defined \u001b[32mclass \u001b[36mGreeter\u001b[0m\n",
       "\u001b[36mres37_2\u001b[0m: \u001b[32m$user\u001b[0m.\u001b[32mGreeter\u001b[0m = cmd37$$user$Greeter@5e03e189"
      ]
     },
     "metadata": {},
     "output_type": "display_data"
    }
   ],
   "source": [
    "trait Greeting{\n",
    "    val name:String\n",
    "    val msg = \"Hi \"+ name\n",
    "}\n",
    "\n",
    "class Greeter extends Greeting{\n",
    "    override lazy val name = \"Scala\"\n",
    "    println(msg)\n",
    "}\n",
    "\n",
    "new Greeter"
   ]
  }
 ],
 "metadata": {
  "celltoolbar": "Slideshow",
  "kernelspec": {
   "display_name": "Scala 2.11",
   "language": "scala211",
   "name": "scala211"
  },
  "language_info": {
   "codemirror_mode": "text/x-scala",
   "file_extension": ".scala",
   "mimetype": "text/x-scala",
   "name": "scala211",
   "pygments_lexer": "scala",
   "version": "2.11.8"
  }
 },
 "nbformat": 4,
 "nbformat_minor": 0
}
