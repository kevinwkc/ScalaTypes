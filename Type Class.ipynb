{
 "cells": [
  {
   "cell_type": "code",
   "execution_count": 1,
   "metadata": {
    "collapsed": false
   },
   "outputs": [
    {
     "data": {
      "text/plain": [
       "defined \u001b[32mtrait \u001b[36mSemigroup\u001b[0m\n",
       "defined \u001b[32mobject \u001b[36mSemigroup\u001b[0m\n",
       "\u001b[36msemigroupInt\u001b[0m: \u001b[32m$user\u001b[0m.\u001b[32mSemigroup\u001b[0m[\u001b[32mInt\u001b[0m] = cmd0$$user$$anonfun$2$$anon$2@36a50498\n",
       "\u001b[36msemigroupString\u001b[0m: \u001b[32m$user\u001b[0m.\u001b[32mSemigroup\u001b[0m[\u001b[32mString\u001b[0m] = cmd0$$user$$anonfun$3$$anon$3@6b8c73\n",
       "\u001b[32mimport \u001b[36mSemigroup.ToSemigroupOps._\u001b[0m\n",
       "\u001b[36mres0_5\u001b[0m: \u001b[32mInt\u001b[0m = \u001b[32m3\u001b[0m\n",
       "\u001b[36mres0_6\u001b[0m: \u001b[32mString\u001b[0m = \u001b[32m\"Hello World\"\u001b[0m"
      ]
     },
     "metadata": {},
     "output_type": "display_data"
    }
   ],
   "source": [
    "\n",
    "trait Semigroup[A] {\n",
    "  def append(x: A, y: A): A\n",
    "}\n",
    "\n",
    "object Semigroup {\n",
    "  def apply[A](implicit instance: Semigroup[A]): Semigroup[A] = instance\n",
    "\n",
    "  trait Ops[A] {\n",
    "    def typeClassInstance: Semigroup[A]\n",
    "    def self: A\n",
    "    def |+|(y: A): A = typeClassInstance.append(self, y)\n",
    "  }\n",
    "\n",
    "  object ToSemigroupOps {\n",
    "    implicit def toSemigroupOps[A](target: A)(implicit tc: Semigroup[A]): Ops[A] = new Ops[A] {\n",
    "      val self = target\n",
    "      val typeClassInstance = tc\n",
    "    }\n",
    "  }\n",
    "\n",
    "}\n",
    "\n",
    "implicit val semigroupInt: Semigroup[Int] = new Semigroup[Int] {\n",
    "  def append(x: Int, y: Int) = x + y\n",
    "}\n",
    "\n",
    "implicit val semigroupString: Semigroup[String] = new Semigroup[String] {\n",
    "  def append(x: String, y: String) = x + y\n",
    "}\n",
    "\n",
    "\n",
    "import Semigroup.ToSemigroupOps._\n",
    "1 |+| 2\n",
    "\n",
    "\"Hello \" |+| \"World\"\n"
   ]
  },
  {
   "cell_type": "markdown",
   "metadata": {},
   "source": [
    "Use Simulacrum https://github.com/mpilquist/simulacrum to write same as :)\n",
    "\n",
    "import simulacrum._\n",
    "\n",
    "@typeclass trait Semigroup[A] {\n",
    "  @op(\"|+|\") def append(x: A, y: A): A\n",
    "}\n"
   ]
  }
 ],
 "metadata": {
  "kernelspec": {
   "display_name": "Scala 2.11",
   "language": "scala211",
   "name": "scala211"
  },
  "language_info": {
   "codemirror_mode": "text/x-scala",
   "file_extension": ".scala",
   "mimetype": "text/x-scala",
   "name": "scala211",
   "pygments_lexer": "scala",
   "version": "2.11.8"
  }
 },
 "nbformat": 4,
 "nbformat_minor": 0
}
